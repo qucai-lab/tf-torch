{
 "cells": [
  {
   "cell_type": "markdown",
   "metadata": {
    "id": "hF4NYyboIq5z"
   },
   "source": [
    "Author: Lucas Camponogara Viera."
   ]
  },
  {
   "cell_type": "markdown",
   "metadata": {
    "jp-MarkdownHeadingCollapsed": true
   },
   "source": [
    "# Rule-of-thumbs"
   ]
  },
  {
   "cell_type": "markdown",
   "metadata": {},
   "source": [
    "1. `Ockham's razor:` when there are two competing theories that make exactly the same predictions, the simpler one is better. In model complexity, the more complex the model, the more prone the model is to overfitting as the size of the dataset decreases. Therefore, one should always start with a baseline model.\n",
    "2. `Learning principle:` random features (noise) cannot be learned. In a data-driven approach, the dataset must share a pattern of meaningful representation.\n",
    "3. `Hold-out set:` it is a good practice to split the dataset into training, test, and validation.\n",
    "4. `Dataset size:` the larger the dataset, the higher the generalization of the model to unseen data.\n",
    "5. `Samples per parameter in Neural Networks:` ideally, there should be 10x the number of samples (feature-label pairs) than parameters (weights) in a neural network, i.e, ten examples per weight.\n",
    "6. `Network depth:` the deeper the network (number of layers), the more information is extracted (learned).\n",
    "7. `Bias-variance trade-off:` while under-parametrization can cause bias (underfitting), over-parametrization can cause variance (overfitting). In mainstream machine learning, one tries to find a balance.\n",
    "8. `Double descent:` over-parametrization beyond certain interpolation threshold can lead to model generalization (good test performance). Moreover, as the size of the parameter vector to be optimized increases (as large as one million), the local minima get closer to the global minimum.\n",
    "9. `Batch size:` a larger batch size (increase memory resource) leads to a speed up in training and to a lower asymptotic test accuracy (classification), and hence a lower generalization to unseen data.\n",
    "10. `Learning rate:` a higher learning rate can speed-up training, however, too large a learning rate can make the loss function value to jiggle around the loss landscape and to never converge."
   ]
  },
  {
   "cell_type": "markdown",
   "metadata": {
    "id": "5LTGVwEqIoXb",
    "jp-MarkdownHeadingCollapsed": true
   },
   "source": [
    "# Dependencies"
   ]
  },
  {
   "cell_type": "code",
   "execution_count": 2,
   "metadata": {
    "id": "aOhyfFg8-4NH"
   },
   "outputs": [],
   "source": [
    "#import numpy as np\n",
    "\n",
    "import os\n",
    "import torch\n",
    "from PIL import Image\n",
    "import torch.nn.functional as F\n",
    "from torch import nn, save, load\n",
    "from torchsummary import summary\n",
    "from torch.optim import Adam, SGD\n",
    "from torch.utils.data import DataLoader\n",
    "from torchvision.transforms import ToTensor\n",
    "from torchvision import datasets, models, transforms\n",
    "\n",
    "import matplotlib.pyplot as plt"
   ]
  },
  {
   "cell_type": "code",
   "execution_count": 3,
   "metadata": {
    "colab": {
     "base_uri": "https://localhost:8080/",
     "height": 35
    },
    "executionInfo": {
     "elapsed": 30,
     "status": "ok",
     "timestamp": 1687176081908,
     "user": {
      "displayName": "Lucas Camponogara Viera",
      "userId": "14322290658374940800"
     },
     "user_tz": 180
    },
    "id": "XFkw_6mQYqHp",
    "outputId": "d44723b2-7766-4a7d-d1d7-dc381f8caa9f"
   },
   "outputs": [
    {
     "data": {
      "text/plain": [
       "'2.2.0'"
      ]
     },
     "execution_count": 3,
     "metadata": {},
     "output_type": "execute_result"
    }
   ],
   "source": [
    "torch.__version__"
   ]
  },
  {
   "cell_type": "code",
   "execution_count": 4,
   "metadata": {
    "colab": {
     "base_uri": "https://localhost:8080/",
     "height": 35
    },
    "executionInfo": {
     "elapsed": 24,
     "status": "ok",
     "timestamp": 1687176081909,
     "user": {
      "displayName": "Lucas Camponogara Viera",
      "userId": "14322290658374940800"
     },
     "user_tz": 180
    },
    "id": "6zU3aG8uYefV",
    "outputId": "4bcb44f5-c897-4e99-bd4a-36657c5e53d9"
   },
   "outputs": [
    {
     "data": {
      "text/plain": [
       "'3.10.0 (default, Mar  3 2022, 09:58:08) [GCC 7.5.0]'"
      ]
     },
     "execution_count": 4,
     "metadata": {},
     "output_type": "execute_result"
    }
   ],
   "source": [
    "import sys\n",
    "sys.version"
   ]
  },
  {
   "cell_type": "markdown",
   "metadata": {
    "id": "kvy46RwUYdCW",
    "jp-MarkdownHeadingCollapsed": true
   },
   "source": [
    "# Dummy dataset"
   ]
  },
  {
   "cell_type": "code",
   "execution_count": 4,
   "metadata": {
    "colab": {
     "base_uri": "https://localhost:8080/"
    },
    "executionInfo": {
     "elapsed": 470,
     "status": "ok",
     "timestamp": 1687176082358,
     "user": {
      "displayName": "Lucas Camponogara Viera",
      "userId": "14322290658374940800"
     },
     "user_tz": 180
    },
    "id": "mUIvl_dQYTP4",
    "outputId": "b31154ec-a79a-4830-81e2-e91e15ca7007"
   },
   "outputs": [
    {
     "data": {
      "text/plain": [
       "(torch.Size([100, 1, 28, 28]), torch.Size([100, 10]))"
      ]
     },
     "execution_count": 4,
     "metadata": {},
     "output_type": "execute_result"
    }
   ],
   "source": [
    "# Fake MNIST dataset\n",
    "num_classes = 10\n",
    "num_samples = 100\n",
    "height = 28\n",
    "width = height\n",
    "num_channels = 1 # Grayscale.\n",
    "train_shape = (num_samples, num_channels, height, width)\n",
    "label_shape = (num_samples, num_classes)\n",
    "\n",
    "# Normalizing dataset\n",
    "mean = 0.0\n",
    "stddev = 1.0\n",
    "\n",
    "# NumPy:\n",
    "#dummy_x = np.random.normal(mean, stddev, size=train_shape)\n",
    "#dummy_y = np.random.normal(mean, stddev, size=label_shape)\n",
    "\n",
    "# Torch:\n",
    "dummy_x = torch.randn(train_shape) * stddev + mean\n",
    "dummy_y = torch.randn(label_shape) * stddev + mean\n",
    "\n",
    "#print(dummy_x.mean(), dummy_x.std()) # For NumPy only.\n",
    "dummy_x.shape, dummy_y.shape"
   ]
  },
  {
   "cell_type": "code",
   "execution_count": 5,
   "metadata": {
    "colab": {
     "base_uri": "https://localhost:8080/"
    },
    "executionInfo": {
     "elapsed": 17,
     "status": "ok",
     "timestamp": 1687176082358,
     "user": {
      "displayName": "Lucas Camponogara Viera",
      "userId": "14322290658374940800"
     },
     "user_tz": 180
    },
    "id": "oYufBkwJYU8S",
    "outputId": "16283a3e-bd53-4621-b0e2-9b98d74e2758"
   },
   "outputs": [
    {
     "data": {
      "text/plain": [
       "(torch.Size([50, 1, 28, 28]),\n",
       " torch.Size([50, 10]),\n",
       " torch.Size([50, 1, 28, 28]),\n",
       " torch.Size([50, 10]))"
      ]
     },
     "execution_count": 5,
     "metadata": {},
     "output_type": "execute_result"
    }
   ],
   "source": [
    "# Hold-out set\n",
    "\n",
    "x_train = dummy_x[:50] # First 50.\n",
    "y_train = dummy_y[:50]\n",
    "x_val = dummy_x[50:] # Remaining ones.\n",
    "y_val = dummy_y[50:]\n",
    "\n",
    "x_train.shape, y_train.shape, x_val.shape, y_val.shape"
   ]
  },
  {
   "cell_type": "markdown",
   "metadata": {
    "id": "WLm2BNtC-7D2",
    "jp-MarkdownHeadingCollapsed": true
   },
   "source": [
    "# OOP (Sequential API)"
   ]
  },
  {
   "cell_type": "code",
   "execution_count": 6,
   "metadata": {},
   "outputs": [],
   "source": [
    "class NeuralNetwork(nn.Module):\n",
    "    def __init__(self, num_classes=10):\n",
    "        super().__init__()\n",
    "        self.conv_block = nn.Sequential(\n",
    "            nn.Conv2d(in_channels=1, out_channels=32, kernel_size=(3,3), padding=1, stride=1, bias=True),\n",
    "            nn.BatchNorm2d(32, affine=True),\n",
    "            nn.ReLU(),\n",
    "            nn.MaxPool2d(kernel_size=(2, 2), stride=2),\n",
    "            nn.Conv2d(in_channels=32, out_channels=64, kernel_size=(3,3), padding=1, bias=True),\n",
    "            nn.ReLU(),\n",
    "            #nn.MaxPool2d(kernel_size=(2, 2), stride=2)\n",
    "        )\n",
    "        self.classifier = nn.Sequential(\n",
    "            #nn.Dropout(0.5),\n",
    "            nn.Linear(64*14*14, 50),\n",
    "            nn.ReLU(),\n",
    "            nn.Linear(50, num_classes),\n",
    "            nn.Softmax(dim=1)\n",
    "        )\n",
    "\n",
    "    def forward(self, x):\n",
    "        '''Forward pass method.'''\n",
    "        x = self.conv_block(x)\n",
    "        # Flattening:\n",
    "        #print(x.size()) # torch.Size([100, 32, 7, 7])\n",
    "        x = x.view(-1, 64*14*14) \n",
    "        x = self.classifier(x)\n",
    "        return x"
   ]
  },
  {
   "cell_type": "code",
   "execution_count": 7,
   "metadata": {},
   "outputs": [
    {
     "data": {
      "text/plain": [
       "torch.Size([10, 10])"
      ]
     },
     "execution_count": 7,
     "metadata": {},
     "output_type": "execute_result"
    }
   ],
   "source": [
    "sample_input = torch.ones((10, 1, 28, 28))\n",
    "\n",
    "model = NeuralNetwork(num_classes).to('cpu')\n",
    "model(sample_input).shape                        "
   ]
  },
  {
   "cell_type": "code",
   "execution_count": 8,
   "metadata": {},
   "outputs": [
    {
     "name": "stdout",
     "output_type": "stream",
     "text": [
      "----------------------------------------------------------------\n",
      "        Layer (type)               Output Shape         Param #\n",
      "================================================================\n",
      "            Conv2d-1           [-1, 32, 28, 28]             320\n",
      "       BatchNorm2d-2           [-1, 32, 28, 28]              64\n",
      "              ReLU-3           [-1, 32, 28, 28]               0\n",
      "         MaxPool2d-4           [-1, 32, 14, 14]               0\n",
      "            Conv2d-5           [-1, 64, 14, 14]          18,496\n",
      "              ReLU-6           [-1, 64, 14, 14]               0\n",
      "            Linear-7                   [-1, 50]         627,250\n",
      "              ReLU-8                   [-1, 50]               0\n",
      "            Linear-9                   [-1, 10]             510\n",
      "          Softmax-10                   [-1, 10]               0\n",
      "================================================================\n",
      "Total params: 646,640\n",
      "Trainable params: 646,640\n",
      "Non-trainable params: 0\n",
      "----------------------------------------------------------------\n",
      "Input size (MB): 0.00\n",
      "Forward/backward pass size (MB): 0.81\n",
      "Params size (MB): 2.47\n",
      "Estimated Total Size (MB): 3.28\n",
      "----------------------------------------------------------------\n"
     ]
    }
   ],
   "source": [
    "# input_shape is (channel, height, width)\n",
    "summary(model, (1, 28, 28))"
   ]
  },
  {
   "cell_type": "markdown",
   "metadata": {
    "id": "j3Lxn2UvCrgc",
    "jp-MarkdownHeadingCollapsed": true
   },
   "source": [
    "# OOP (Functional API)"
   ]
  },
  {
   "cell_type": "code",
   "execution_count": 5,
   "metadata": {
    "id": "ztbxzMiN3Hk3"
   },
   "outputs": [],
   "source": [
    "class NeuralNetwork(nn.Module):\n",
    "    def __init__(self, num_classes=10):\n",
    "        super().__init__()\n",
    "        self.conv1 = nn.Conv2d(in_channels=1, out_channels=32, kernel_size=(3,3), padding=1, stride=1, bias=True)\n",
    "        self.pool = nn.MaxPool2d(kernel_size=(2, 2), stride=2)\n",
    "        self.conv2 = nn.Conv2d(in_channels=32, out_channels=64, kernel_size=(3,3), padding=1, bias=True)\n",
    "        self.fc1 = nn.Linear(64 * 14 * 14, 50)  \n",
    "        self.fc2 = nn.Linear(50, num_classes)\n",
    "        self.bn = nn.BatchNorm2d(32, affine=True)\n",
    "        #self.dropout = nn.Dropout(0.5)\n",
    "\n",
    "    def forward(self, x):\n",
    "        '''Forward pass method.'''\n",
    "        x = self.conv1(x)\n",
    "        x = F.relu(self.bn(x))\n",
    "        x = self.pool(x)\n",
    "        x = F.relu(self.conv2(x))\n",
    "        #x = self.pool(x)\n",
    "        #print(x.size()) # torch.Size([100, 32, 14, 14])\n",
    "        # Flattening:\n",
    "        x = x.view(-1, 64 * 14 * 14)\n",
    "        #x = self.dropout(x)\n",
    "        x = F.relu(self.fc1(x))\n",
    "        x = F.softmax(self.fc2(x), dim=1)\n",
    "        return x"
   ]
  },
  {
   "cell_type": "code",
   "execution_count": 10,
   "metadata": {
    "colab": {
     "base_uri": "https://localhost:8080/"
    },
    "executionInfo": {
     "elapsed": 272,
     "status": "ok",
     "timestamp": 1687168124706,
     "user": {
      "displayName": "Lucas Camponogara Viera",
      "userId": "14322290658374940800"
     },
     "user_tz": 180
    },
    "id": "afthZAkev6Mx",
    "outputId": "8788210c-21c4-4785-df61-d14da0862e4f"
   },
   "outputs": [
    {
     "data": {
      "text/plain": [
       "torch.Size([100, 10])"
      ]
     },
     "execution_count": 10,
     "metadata": {},
     "output_type": "execute_result"
    }
   ],
   "source": [
    "sample_input = torch.ones((100, 1, 28, 28))\n",
    "\n",
    "model = NeuralNetwork(num_classes).to('cpu')\n",
    "model(sample_input).shape                        "
   ]
  },
  {
   "cell_type": "code",
   "execution_count": 11,
   "metadata": {},
   "outputs": [
    {
     "name": "stdout",
     "output_type": "stream",
     "text": [
      "----------------------------------------------------------------\n",
      "        Layer (type)               Output Shape         Param #\n",
      "================================================================\n",
      "            Conv2d-1           [-1, 32, 28, 28]             320\n",
      "       BatchNorm2d-2           [-1, 32, 28, 28]              64\n",
      "         MaxPool2d-3           [-1, 32, 14, 14]               0\n",
      "            Conv2d-4           [-1, 64, 14, 14]          18,496\n",
      "            Linear-5                   [-1, 50]         627,250\n",
      "            Linear-6                   [-1, 10]             510\n",
      "================================================================\n",
      "Total params: 646,640\n",
      "Trainable params: 646,640\n",
      "Non-trainable params: 0\n",
      "----------------------------------------------------------------\n",
      "Input size (MB): 0.00\n",
      "Forward/backward pass size (MB): 0.53\n",
      "Params size (MB): 2.47\n",
      "Estimated Total Size (MB): 3.00\n",
      "----------------------------------------------------------------\n"
     ]
    }
   ],
   "source": [
    "# input_shape is (channel, height, width)\n",
    "summary(model, (1, 28, 28))"
   ]
  },
  {
   "cell_type": "markdown",
   "metadata": {
    "id": "hgXSpKQBYaKC",
    "jp-MarkdownHeadingCollapsed": true
   },
   "source": [
    "# Train\n",
    "\n",
    "Dummy dataset."
   ]
  },
  {
   "cell_type": "code",
   "execution_count": 12,
   "metadata": {},
   "outputs": [],
   "source": [
    "# Device ('cuda' or 'cpu')\n",
    "device = torch.device('cuda' if torch.cuda.is_available() else 'cpu')\n",
    "\n",
    "# Hyperparameters\n",
    "learning_rate = 1e-4\n",
    "epochs = 10\n",
    "batch_size = 10\n",
    "num_passes = len(x_train)/batch_size\n",
    "\n",
    "# Model\n",
    "model = NeuralNetwork(num_classes=10).to(device)\n",
    "\n",
    "# Loss\n",
    "loss = nn.CrossEntropyLoss()\n",
    "\n",
    "# Optimizers\n",
    "opt1 = Adam(model.parameters(), learning_rate)\n",
    "opt2 = SGD(model.parameters(), learning_rate, momentum=0.9)"
   ]
  },
  {
   "cell_type": "code",
   "execution_count": 13,
   "metadata": {},
   "outputs": [
    {
     "name": "stdout",
     "output_type": "stream",
     "text": [
      "Epoch: 1 | Training Loss: 2.521962022781372 | Validation Loss: 1.6545334696769713\n",
      "Epoch: 2 | Training Loss: 2.5050134539604185 | Validation Loss: 1.6568998336791991\n",
      "Epoch: 3 | Training Loss: 2.5259711861610414 | Validation Loss: 1.6604255557060241\n",
      "Epoch: 4 | Training Loss: 2.549936854839325 | Validation Loss: 1.6684385180473327\n",
      "Epoch: 5 | Training Loss: 2.540916085243225 | Validation Loss: 1.682846486568451\n",
      "Epoch: 6 | Training Loss: 2.5175208687782287 | Validation Loss: 1.6868875861167907\n",
      "Epoch: 7 | Training Loss: 2.5163288474082948 | Validation Loss: 1.6757380485534668\n",
      "Epoch: 8 | Training Loss: 2.5130046248435973 | Validation Loss: 1.6704510688781737\n",
      "Epoch: 9 | Training Loss: 2.498608422279358 | Validation Loss: 1.655423492193222\n",
      "Epoch: 10 | Training Loss: 2.491582727432251 | Validation Loss: 1.6599570631980896\n"
     ]
    }
   ],
   "source": [
    "for epoch in range(epochs):\n",
    "    train_loss_value = 0.0\n",
    "    val_loss_value = 0.0\n",
    "\n",
    "    # Training phase\n",
    "    model.train()  # Set the model to training mode\n",
    "    for i in range(0, len(x_train), batch_size):\n",
    "        # Iterating over the dataset in batches of n samples\n",
    "        x_train_batch, y_train_batch = x_train[i:i+batch_size], y_train[i:i+batch_size]\n",
    "        x_train_batch, y_train_batch = x_train_batch.to(device), y_train_batch.to(device)\n",
    "        #print(x.shape, y.shape)\n",
    "\n",
    "        # Forward pass (prediction)\n",
    "        yhat_train = model(x_train_batch)\n",
    "\n",
    "        # Compute loss\n",
    "        train_loss = loss(yhat_train, y_train_batch)\n",
    "        train_loss_value += torch.abs(train_loss).item()\n",
    "\n",
    "        # Reset gradients\n",
    "        opt1.zero_grad()\n",
    "        # Backpropagate\n",
    "        train_loss.backward()\n",
    "        # Update weights\n",
    "        opt1.step()\n",
    "    \n",
    "    # Validation phase\n",
    "    model.eval() # Set the model to evaluation mode\n",
    "    with torch.no_grad():\n",
    "        for i in range(0, len(x_val), batch_size):\n",
    "            x_val_batch, y_val_batch = x_val[i:i+batch_size], y_val[i:i+batch_size]\n",
    "            x_val_batch, y_val_batch = x_val_batch.to(device), y_val_batch.to(device)\n",
    "\n",
    "            # Forward pass (prediction)\n",
    "            yhat_val = model(x_val_batch)\n",
    "\n",
    "            # Compute loss\n",
    "            val_loss_value += torch.abs(loss(yhat_val, y_val_batch)).item()\n",
    "\n",
    "    # Average Training Loss\n",
    "    train_loss_value /= num_passes\n",
    "    # Average Validation Loss\n",
    "    val_loss_value /= num_passes\n",
    "        \n",
    "    print(f'Epoch: {epoch+1} | Training Loss: {train_loss_value} | Validation Loss: {val_loss_value}')"
   ]
  },
  {
   "cell_type": "markdown",
   "metadata": {
    "jp-MarkdownHeadingCollapsed": true
   },
   "source": [
    "# Example: MNIST"
   ]
  },
  {
   "cell_type": "markdown",
   "metadata": {
    "jp-MarkdownHeadingCollapsed": true
   },
   "source": [
    "## Data Preprocessing"
   ]
  },
  {
   "cell_type": "code",
   "execution_count": 18,
   "metadata": {},
   "outputs": [],
   "source": [
    "batch_size = 10\n",
    "\n",
    "# Load the MNIST dataset\n",
    "mnist = datasets.MNIST(root='data', download=True, train=True, transform=ToTensor())\n",
    "\n",
    "# Split the dataset into training and validation sets\n",
    "total_size = len(mnist)\n",
    "train_size = int(0.8 * total_size)  # 80% for training\n",
    "val_size = total_size - train_size  # 20% for validation\n",
    "\n",
    "# Use torch.utils.data.random_split for the splitting\n",
    "train_dataset, val_dataset = torch.utils.data.random_split(mnist, [train_size, val_size])\n",
    "\n",
    "# Create data loaders for training and validation sets\n",
    "train_loader = DataLoader(train_dataset, batch_size, shuffle=True)\n",
    "val_loader = DataLoader(val_dataset, batch_size, shuffle=False)"
   ]
  },
  {
   "cell_type": "markdown",
   "metadata": {
    "jp-MarkdownHeadingCollapsed": true
   },
   "source": [
    "## Training"
   ]
  },
  {
   "cell_type": "code",
   "execution_count": 7,
   "metadata": {},
   "outputs": [],
   "source": [
    "# Device ('cuda' or 'cpu')\n",
    "device = torch.device('cuda' if torch.cuda.is_available() else 'cpu')\n",
    "\n",
    "# Hyperparameters\n",
    "learning_rate = 1e-4\n",
    "epochs = 20\n",
    "\n",
    "# Model\n",
    "model = NeuralNetwork(num_classes=10).to(device)\n",
    "\n",
    "# Loss\n",
    "loss = nn.CrossEntropyLoss()\n",
    "\n",
    "# Optimizers\n",
    "opt1 = Adam(model.parameters(), learning_rate)\n",
    "opt2 = SGD(model.parameters(), learning_rate, momentum=0.9)"
   ]
  },
  {
   "cell_type": "code",
   "execution_count": 23,
   "metadata": {
    "scrolled": true
   },
   "outputs": [
    {
     "name": "stdout",
     "output_type": "stream",
     "text": [
      "Epoch: 1 | Train Loss: 1.5515 | Train Accuracy: 0.9202     Val Loss: 1.5018 | Val Accuracy: 0.9630\n",
      "Epoch: 2 | Train Loss: 1.4933 | Train Accuracy: 0.9708     Val Loss: 1.4851 | Val Accuracy: 0.9782\n",
      "Epoch: 3 | Train Loss: 1.4839 | Train Accuracy: 0.9793     Val Loss: 1.4802 | Val Accuracy: 0.9825\n",
      "Epoch: 4 | Train Loss: 1.4783 | Train Accuracy: 0.9844     Val Loss: 1.4847 | Val Accuracy: 0.9784\n",
      "Epoch: 5 | Train Loss: 1.4761 | Train Accuracy: 0.9862     Val Loss: 1.4787 | Val Accuracy: 0.9835\n",
      "Epoch: 6 | Train Loss: 1.4740 | Train Accuracy: 0.9879     Val Loss: 1.4759 | Val Accuracy: 0.9858\n",
      "Epoch: 7 | Train Loss: 1.4720 | Train Accuracy: 0.9900     Val Loss: 1.4763 | Val Accuracy: 0.9855\n",
      "Epoch: 8 | Train Loss: 1.4709 | Train Accuracy: 0.9909     Val Loss: 1.4738 | Val Accuracy: 0.9879\n",
      "Epoch: 9 | Train Loss: 1.4693 | Train Accuracy: 0.9925     Val Loss: 1.4734 | Val Accuracy: 0.9887\n",
      "Epoch: 10 | Train Loss: 1.4680 | Train Accuracy: 0.9937     Val Loss: 1.4738 | Val Accuracy: 0.9878\n",
      "Epoch: 11 | Train Loss: 1.4674 | Train Accuracy: 0.9944     Val Loss: 1.4764 | Val Accuracy: 0.9848\n",
      "Epoch: 12 | Train Loss: 1.4671 | Train Accuracy: 0.9944     Val Loss: 1.4738 | Val Accuracy: 0.9878\n",
      "Epoch: 13 | Train Loss: 1.4665 | Train Accuracy: 0.9951     Val Loss: 1.4722 | Val Accuracy: 0.9895\n",
      "Epoch: 14 | Train Loss: 1.4659 | Train Accuracy: 0.9956     Val Loss: 1.4758 | Val Accuracy: 0.9857\n",
      "Epoch: 15 | Train Loss: 1.4660 | Train Accuracy: 0.9955     Val Loss: 1.4730 | Val Accuracy: 0.9882\n",
      "Epoch: 16 | Train Loss: 1.4652 | Train Accuracy: 0.9962     Val Loss: 1.4723 | Val Accuracy: 0.9888\n",
      "Epoch: 17 | Train Loss: 1.4651 | Train Accuracy: 0.9963     Val Loss: 1.4733 | Val Accuracy: 0.9882\n",
      "Epoch: 18 | Train Loss: 1.4651 | Train Accuracy: 0.9964     Val Loss: 1.4748 | Val Accuracy: 0.9868\n",
      "Epoch: 19 | Train Loss: 1.4651 | Train Accuracy: 0.9963     Val Loss: 1.4736 | Val Accuracy: 0.9875\n",
      "Epoch: 20 | Train Loss: 1.4645 | Train Accuracy: 0.9969     Val Loss: 1.4738 | Val Accuracy: 0.9875\n"
     ]
    }
   ],
   "source": [
    "history = {'loss': [], 'val_loss': [], 'accuracy': [], 'val_accuracy': []}\n",
    "\n",
    "for epoch in range(epochs):\n",
    "    epoch_train_loss = 0.0\n",
    "    epoch_val_loss = 0.0\n",
    "    total_train_correct = 0\n",
    "    total_train_samples = 0\n",
    "    total_val_correct = 0\n",
    "    total_val_samples = 0\n",
    "    \n",
    "    # Training phase\n",
    "    model.train()  # Set the model to training mode\n",
    "    for batch in train_loader:\n",
    "        x, y = batch\n",
    "        x, y = x.to(device), y.to(device)\n",
    "\n",
    "        # Forward pass (prediction)\n",
    "        yhat_train = model(x)\n",
    "\n",
    "        # Compute loss\n",
    "        train_loss = loss(yhat_train, y)\n",
    "        epoch_train_loss += torch.abs(train_loss).item()\n",
    "\n",
    "        # Reset gradients\n",
    "        opt1.zero_grad()\n",
    "        # Backpropagate\n",
    "        train_loss.backward()\n",
    "        # Update weights\n",
    "        opt1.step()\n",
    "\n",
    "        # Compute accuracy\n",
    "        _, predicted = torch.max(yhat_train, 1)\n",
    "        total_train_correct += (predicted == y).sum().item()\n",
    "        total_train_samples += y.size(0)\n",
    "\n",
    "    # Validation phase\n",
    "    model.eval() # Set the model to evaluation mode\n",
    "    with torch.no_grad():\n",
    "        for batch in val_loader:\n",
    "            x_val_batch, y_val_batch = batch\n",
    "            x_val_batch, y_val_batch = x_val_batch.to(device), y_val_batch.to(device)\n",
    "\n",
    "            # Forward pass (prediction)\n",
    "            yhat_val = model(x_val_batch)\n",
    "\n",
    "            # Compute loss\n",
    "            epoch_val_loss += torch.abs(loss(yhat_val, y_val_batch)).item()\n",
    "            \n",
    "            # Compute accuracy\n",
    "            _, predicted = torch.max(yhat_val, 1)\n",
    "            total_val_correct += (predicted == y_val_batch).sum().item()\n",
    "            total_val_samples += y_val_batch.size(0)\n",
    "\n",
    "    # Average Training Loss\n",
    "    epoch_train_loss /= (total_train_samples/batch_size)\n",
    "    # Average Training Accuracy\n",
    "    epoch_train_accuracy = total_train_correct / total_train_samples\n",
    "    # Average Val Loss\n",
    "    epoch_val_loss /= (total_val_samples/batch_size)\n",
    "    # Average Val Accuracy\n",
    "    epoch_val_accuracy = total_val_correct / total_val_samples\n",
    "    # History\n",
    "    history['loss'].append(epoch_train_loss)\n",
    "    history['accuracy'].append(epoch_train_accuracy)\n",
    "    history['val_loss'].append(epoch_val_loss)\n",
    "    history['val_accuracy'].append(epoch_val_accuracy)\n",
    "    \n",
    "    print(f'Epoch: {epoch+1} | Train Loss: {epoch_train_loss:.4f} | Train Accuracy: {epoch_train_accuracy:.4f} \\\n",
    "    Val Loss: {epoch_val_loss:.4f} | Val Accuracy: {epoch_val_accuracy:.4f}')\n",
    "\n",
    "if not os.path.exists('./models/torch'):\n",
    "    os.makedirs('./models/torch')\n",
    "    \n",
    "with open('./models/torch/mnist_cnn_model.pt', 'wb') as f:\n",
    "    save(model.state_dict(), f)"
   ]
  },
  {
   "cell_type": "code",
   "execution_count": 24,
   "metadata": {},
   "outputs": [
    {
     "data": {
      "image/png": "[encoded data removed]",
      "text/plain": [
       "<Figure size 1200x600 with 2 Axes>"
      ]
     },
     "metadata": {},
     "output_type": "display_data"
    }
   ],
   "source": [
    "def plot_history(history):\n",
    "    fig, (ax1, ax2) = plt.subplots(1, 2, figsize=(12, 6))\n",
    "\n",
    "    # Plot the training and validation loss\n",
    "    ax1.plot(history['loss'], label='Training loss')\n",
    "    ax1.plot(history['val_loss'], label='Validation loss')\n",
    "    ax1.set_title('Training and validation loss')\n",
    "    ax1.set_xlabel('Epoch')\n",
    "    ax1.set_ylabel('Loss')\n",
    "    ax1.legend()\n",
    "\n",
    "    # Plot the training and validation accuracy\n",
    "    ax2.plot(history['accuracy'], label='Training accuracy')\n",
    "    ax2.plot(history['val_accuracy'], label='Validation accuracy')\n",
    "    ax2.set_title('Training and validation accuracy')\n",
    "    ax2.set_xlabel('Epoch')\n",
    "    ax2.set_ylabel('Accuracy')\n",
    "    ax2.legend()\n",
    "    plt.show()\n",
    "\n",
    "plot_history(history)"
   ]
  },
  {
   "cell_type": "markdown",
   "metadata": {
    "jp-MarkdownHeadingCollapsed": true
   },
   "source": [
    "## Predictions"
   ]
  },
  {
   "cell_type": "code",
   "execution_count": 9,
   "metadata": {},
   "outputs": [
    {
     "data": {
      "image/png": "[encoded data removed]",
      "text/plain": [
       "<Figure size 640x480 with 1 Axes>"
      ]
     },
     "metadata": {},
     "output_type": "display_data"
    },
    {
     "name": "stdout",
     "output_type": "stream",
     "text": [
      "tensor(0)\n"
     ]
    }
   ],
   "source": [
    "# Open and convert the image to grayscale\n",
    "img = Image.open('assets/test.png').convert('L')\n",
    "\n",
    "# Display the image\n",
    "plt.imshow(img, cmap='gray')\n",
    "plt.axis('off')\n",
    "plt.show()\n",
    "\n",
    "# Convert image to Tensor\n",
    "img = ToTensor()(img).unsqueeze(0)\n",
    "\n",
    "# Resize the image to match the neural network input\n",
    "img = F.interpolate(img, size=(28, 28), mode='bilinear', align_corners=False).to(device)\n",
    "\n",
    "# Load the pre-trained model\n",
    "with open('models/torch/mnist_cnn_model.pt', 'rb') as f:\n",
    "    model.load_state_dict(load(f))\n",
    "\n",
    "# make a prediction\n",
    "print(torch.argmax(model(img)))"
   ]
  },
  {
   "cell_type": "markdown",
   "metadata": {
    "jp-MarkdownHeadingCollapsed": true
   },
   "source": [
    "# References"
   ]
  },
  {
   "cell_type": "markdown",
   "metadata": {},
   "source": [
    "[1] https://pytorch.org/docs/stable/generated/torch.nn.Conv2d.html"
   ]
  },
  {
   "cell_type": "code",
   "execution_count": null,
   "metadata": {},
   "outputs": [],
   "source": []
  }
 ],
 "metadata": {
  "colab": {
   "authorship_tag": "ABX9TyOR6YkOUhchEpzaNAj1pEyD",
   "collapsed_sections": [
    "5LTGVwEqIoXb",
    "kvy46RwUYdCW",
    "WLm2BNtC-7D2",
    "d4_Uk_hR-8jz",
    "j3Lxn2UvCrgc",
    "hgXSpKQBYaKC"
   ],
   "provenance": []
  },
  "kernelspec": {
   "display_name": "Python 3 (ipykernel)",
   "language": "python",
   "name": "python3"
  },
  "language_info": {
   "codemirror_mode": {
    "name": "ipython",
    "version": 3
   },
   "file_extension": ".py",
   "mimetype": "text/x-python",
   "name": "python",
   "nbconvert_exporter": "python",
   "pygments_lexer": "ipython3",
   "version": "3.10.0"
  }
 },
 "nbformat": 4,
 "nbformat_minor": 4
}
